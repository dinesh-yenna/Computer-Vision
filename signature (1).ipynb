{
  "nbformat": 4,
  "nbformat_minor": 5,
  "metadata": {
    "accelerator": "GPU",
    "colab": {
      "name": "sig (1).ipynb",
      "provenance": [],
      "collapsed_sections": [],
      "machine_shape": "hm"
    },
    "kernelspec": {
      "display_name": "Python 3",
      "language": "python",
      "name": "python3"
    },
    "language_info": {
      "codemirror_mode": {
        "name": "ipython",
        "version": 3
      },
      "file_extension": ".py",
      "mimetype": "text/x-python",
      "name": "python",
      "nbconvert_exporter": "python",
      "pygments_lexer": "ipython3",
      "version": "3.6.13"
    }
  },
  "cells": [
    {
      "cell_type": "code",
      "metadata": {
        "colab": {
          "base_uri": "https://localhost:8080/"
        },
        "id": "d8900977",
        "outputId": "fc21d4a7-f125-479d-dee7-2a3bc841456b"
      },
      "source": [
        "import sys\n",
        "import time\n",
        "import itertools\n",
        "import random\n",
        "import pickle\n",
        "import os\n",
        "from PIL import Image\n",
        "\n",
        "import numpy as np\n",
        "!pip install matplotlib\n",
        "import matplotlib.pyplot as plot\n",
        "%matplotlib inline\n",
        "!pip install opencv-python\n",
        "import cv2\n",
        "from sklearn.utils import shuffle\n",
        "from sklearn.model_selection import train_test_split\n",
        "\n",
        "import tensorflow as tf\n",
        "\n",
        "from tensorflow.keras.layers import BatchNormalization\n",
        "from tensorflow.keras.layers import MaxPooling2D\n",
        "from tensorflow.keras.layers import ZeroPadding2D\n",
        "from tensorflow.keras.layers import Dropout\n",
        "\n",
        "from tensorflow.keras.models import Sequential\n",
        "from tensorflow.keras.optimizers import Adam, RMSprop\n",
        "from tensorflow.keras.layers import Conv2D, ZeroPadding2D, Activation, Input, concatenate, Dropout\n",
        "from tensorflow.keras.layers import BatchNormalization, MaxPool2D,Concatenate,Lambda,Flatten,Dense\n",
        "from tensorflow.keras.initializers import glorot_uniform\n",
        "\n",
        "from tensorflow.keras.models import Model\n",
        "\n",
        "from tensorflow.keras.regularizers import l2\n",
        "from tensorflow.keras import backend as K\n",
        "from tensorflow.keras.callbacks import EarlyStopping, ModelCheckpoint, ReduceLROnPlateau\n",
        "\n",
        "%matplotlib inline"
      ],
      "id": "d8900977",
      "execution_count": 64,
      "outputs": [
        {
          "output_type": "stream",
          "text": [
            "Requirement already satisfied: matplotlib in /usr/local/lib/python3.7/dist-packages (3.2.2)\n",
            "Requirement already satisfied: numpy>=1.11 in /usr/local/lib/python3.7/dist-packages (from matplotlib) (1.19.5)\n",
            "Requirement already satisfied: kiwisolver>=1.0.1 in /usr/local/lib/python3.7/dist-packages (from matplotlib) (1.3.1)\n",
            "Requirement already satisfied: pyparsing!=2.0.4,!=2.1.2,!=2.1.6,>=2.0.1 in /usr/local/lib/python3.7/dist-packages (from matplotlib) (2.4.7)\n",
            "Requirement already satisfied: python-dateutil>=2.1 in /usr/local/lib/python3.7/dist-packages (from matplotlib) (2.8.1)\n",
            "Requirement already satisfied: cycler>=0.10 in /usr/local/lib/python3.7/dist-packages (from matplotlib) (0.10.0)\n",
            "Requirement already satisfied: six in /usr/local/lib/python3.7/dist-packages (from cycler>=0.10->matplotlib) (1.15.0)\n",
            "Requirement already satisfied: opencv-python in /usr/local/lib/python3.7/dist-packages (4.1.2.30)\n",
            "Requirement already satisfied: numpy>=1.14.5 in /usr/local/lib/python3.7/dist-packages (from opencv-python) (1.19.5)\n"
          ],
          "name": "stdout"
        }
      ]
    },
    {
      "cell_type": "code",
      "metadata": {
        "id": "hOLWOhVZHw98"
      },
      "source": [
        "import zipfile\n",
        "with zipfile.ZipFile('/content/data/BHSig260.zip', 'r') as zip_ref:\n",
        "    zip_ref.extractall('/content/data/')"
      ],
      "id": "hOLWOhVZHw98",
      "execution_count": 65,
      "outputs": []
    },
    {
      "cell_type": "code",
      "metadata": {
        "id": "ff095623"
      },
      "source": [
        "dataset_path1 = \"/content/data/BHSig260/Hindi/\"\n",
        "dataset_path2 = \"/content/data/BHSig260/Bengali/\"\n",
        "# dataset_path3 = \"./dataset/English/\"\n",
        "dataset_all = {}\n",
        "IMAGE_HEIGHT = 150\n",
        "IMAGE_WIDTH = 150\n",
        "SIZE = 150\n",
        "DIM = 64\n",
        "initial_learning_rate = 0.0008\n",
        "batch_size = 8\n",
        "epoch = 4"
      ],
      "id": "ff095623",
      "execution_count": 66,
      "outputs": []
    },
    {
      "cell_type": "code",
      "metadata": {
        "id": "808eec2c"
      },
      "source": [
        "def imageResize(img):\n",
        "    img = cv2.resize(img, (IMAGE_WIDTH, IMAGE_HEIGHT)) \n",
        "    img = img / 255\n",
        "    return img"
      ],
      "id": "808eec2c",
      "execution_count": 67,
      "outputs": []
    },
    {
      "cell_type": "code",
      "metadata": {
        "id": "68c0250b"
      },
      "source": [
        "def getDataset(data, path):\n",
        "    temp_list = []\n",
        "    for x in range(0, len(data)):\n",
        "        i = data[x]\n",
        "        img = np.asarray(Image.open(path + i))\n",
        "        img = imageResize(img)\n",
        "        img = img.reshape((IMAGE_WIDTH, IMAGE_HEIGHT, 1))\n",
        "        temp_list.append(i)\n",
        "        dataset_all[i] = img\n",
        "    return temp_list"
      ],
      "id": "68c0250b",
      "execution_count": 68,
      "outputs": []
    },
    {
      "cell_type": "code",
      "metadata": {
        "id": "29d60e88"
      },
      "source": [
        "def getHindiBengali(path, typ):\n",
        "    original = []\n",
        "    forged = []\n",
        "    with open(path + 'list.forgery') as f:\n",
        "        Fdata = f.read().split(\"\\n\")\n",
        "        Fdata = Fdata[0:-1]\n",
        "    with open(path + 'list.genuine') as f:\n",
        "        Odata = f.read().split(\"\\n\")\n",
        "        Odata = Odata[0:-1]\n",
        "    with open(path + typ + '_pairs.txt') as f:\n",
        "        pairs = f.read().split(\"\\n\")\n",
        "        pairs = pairs[0:-1]\n",
        "    print(\"Getting Original Data...\")\n",
        "    original = getDataset(Odata, path)\n",
        "    print(\"Getting Forged Data...\")\n",
        "    forged = getDataset(Fdata, path)\n",
        "    return original, forged"
      ],
      "id": "29d60e88",
      "execution_count": 69,
      "outputs": []
    },
    {
      "cell_type": "code",
      "metadata": {
        "id": "464f68ba"
      },
      "source": [
        "def makeHindiBengaliPairs(original, forged, typ):\n",
        "    x1, x2, y = [], [], []\n",
        "    rng = 0\n",
        "    if (typ == \"Hindi\"):\n",
        "        rng = 160\n",
        "    if (typ == \"Bengali\"):\n",
        "        rng = 100\n",
        "    for i in range(0, rng):\n",
        "        f_start = i * 30\n",
        "        o_start = i * 24\n",
        "        for j in range(o_start, o_start + 24):\n",
        "            for k in range(j + 1, o_start + 24):\n",
        "                x1.append(original[j])\n",
        "                x2.append(original[k])\n",
        "                y.append(1)\n",
        "            for k in range(f_start, f_start + 30):\n",
        "                x1.append(original[j])\n",
        "                x2.append(forged[k])\n",
        "                y.append(0)\n",
        "    return x1, x2, y"
      ],
      "id": "464f68ba",
      "execution_count": 70,
      "outputs": []
    },
    {
      "cell_type": "code",
      "metadata": {
        "id": "9e571467"
      },
      "source": [
        "def vis_data(original_train, forged_train, typ):\n",
        "    loc = \"\"\n",
        "    if (typ == \"Hindi\"):\n",
        "        loc = dataset_path1\n",
        "    if (typ == \"Bengali\"):\n",
        "        loc = dataset_path2\n",
        "    figure, (axis1, axis2) = plot.subplots(1, 2, figsize = (10, 10))\n",
        "    x = np.random.randint(len(original_train))\n",
        "    original_image_name = random.sample(original_train[x], 1)\n",
        "    forged_image_name = random.sample(forged_train[x], 1)\n",
        "    original_image = cv2.imread(loc + original_train[x], 0)\n",
        "    forged_image = plot.imread(loc + forged_train[x], 0)\n",
        "    original_image = cv2.resize(original_image, (IMAGE_WIDTH, IMAGE_HEIGHT))\n",
        "    forged_image = cv2.resize(forged_image, (IMAGE_WIDTH, IMAGE_HEIGHT))\n",
        "\n",
        "    axis1.imshow(original_image, cmap = 'gray')\n",
        "    axis2.imshow(forged_image, cmap = 'gray')\n",
        "\n",
        "    axis1.set_title('Original Copy')\n",
        "    axis1.axis('off')\n",
        "    axis2.set_title('Forged Copy')\n",
        "    axis2.axis('off')"
      ],
      "id": "9e571467",
      "execution_count": 71,
      "outputs": []
    },
    {
      "cell_type": "code",
      "metadata": {
        "colab": {
          "base_uri": "https://localhost:8080/"
        },
        "id": "a87f702a",
        "outputId": "3468afb0-20cc-4f80-9242-b7d471d0c765"
      },
      "source": [
        "H_original, H_forged = getHindiBengali(dataset_path1, \"Hindi\")"
      ],
      "id": "a87f702a",
      "execution_count": 72,
      "outputs": [
        {
          "output_type": "stream",
          "text": [
            "Getting Original Data...\n",
            "Getting Forged Data...\n"
          ],
          "name": "stdout"
        }
      ]
    },
    {
      "cell_type": "code",
      "metadata": {
        "id": "e86cf24c"
      },
      "source": [
        "X1_H, X2_H, y_H = makeHindiBengaliPairs(H_original, H_forged, \"Hindi\")"
      ],
      "id": "e86cf24c",
      "execution_count": 73,
      "outputs": []
    },
    {
      "cell_type": "code",
      "metadata": {
        "colab": {
          "base_uri": "https://localhost:8080/",
          "height": 301
        },
        "id": "203e0e2e",
        "outputId": "479b4388-0c9d-45cc-f547-8fd1f380362a"
      },
      "source": [
        "vis_data(X1_H, X2_H, \"Hindi\")"
      ],
      "id": "203e0e2e",
      "execution_count": 74,
      "outputs": [
        {
          "output_type": "display_data",
          "data": {
            "image/png": "[encoded data removed]",
            "text/plain": [
              "<Figure size 720x720 with 2 Axes>"
            ]
          },
          "metadata": {
            "tags": [],
            "needs_background": "light"
          }
        }
      ]
    },
    {
      "cell_type": "code",
      "metadata": {
        "colab": {
          "base_uri": "https://localhost:8080/"
        },
        "id": "3cbf655c",
        "outputId": "c1a5caee-21aa-4639-fa49-04b5d4bf5924"
      },
      "source": [
        "B_original, B_forged = getHindiBengali(dataset_path2, \"Bengali\")"
      ],
      "id": "3cbf655c",
      "execution_count": 75,
      "outputs": [
        {
          "output_type": "stream",
          "text": [
            "Getting Original Data...\n",
            "Getting Forged Data...\n"
          ],
          "name": "stdout"
        }
      ]
    },
    {
      "cell_type": "code",
      "metadata": {
        "id": "7706d8cd"
      },
      "source": [
        "X1_B, X2_B, y_B = makeHindiBengaliPairs(B_original, B_forged, \"Bengali\")"
      ],
      "id": "7706d8cd",
      "execution_count": 76,
      "outputs": []
    },
    {
      "cell_type": "code",
      "metadata": {
        "colab": {
          "base_uri": "https://localhost:8080/",
          "height": 301
        },
        "id": "fc5fe44c",
        "outputId": "8ab71e80-6f77-45f6-e28b-9056e383dba7"
      },
      "source": [
        "vis_data(X1_B, X2_B, \"Bengali\")"
      ],
      "id": "fc5fe44c",
      "execution_count": 77,
      "outputs": [
        {
          "output_type": "display_data",
          "data": {
            "image/png": "[encoded data removed]",
            "text/plain": [
              "<Figure size 720x720 with 2 Axes>"
            ]
          },
          "metadata": {
            "tags": [],
            "needs_background": "light"
          }
        }
      ]
    },
    {
      "cell_type": "code",
      "metadata": {
        "colab": {
          "base_uri": "https://localhost:8080/"
        },
        "id": "f6489d94",
        "outputId": "8590a1f5-e21b-4791-db36-f39b7f9e518f"
      },
      "source": [
        "X1 = np.concatenate([X1_H, X1_B])\n",
        "X2 = np.concatenate([X2_H, X2_B])\n",
        "Y  = np.concatenate([y_H, y_B])\n",
        "print(len(X1), len(X2), len(Y))"
      ],
      "id": "f6489d94",
      "execution_count": 78,
      "outputs": [
        {
          "output_type": "stream",
          "text": [
            "258960 258960 258960\n"
          ],
          "name": "stdout"
        }
      ]
    },
    {
      "cell_type": "code",
      "metadata": {
        "id": "b988036d"
      },
      "source": [
        "ipos = list(zip(X1, X2, Y))\n",
        "random.shuffle(ipos)\n",
        "X1, X2, Y = zip(*ipos)\n",
        "Y = tf.cast(Y, tf.float32)"
      ],
      "id": "b988036d",
      "execution_count": 79,
      "outputs": []
    },
    {
      "cell_type": "code",
      "metadata": {
        "id": "9ccdf87b"
      },
      "source": [
        "limit = len(X1) - int(0.30 * len(X1))\n",
        "X1_train, X2_train, Y_train, X1_val, X2_val, Y_val, X1_test, X2_test, Y_test = X1[0:limit], X2[0:limit], Y[0:limit], X1[limit:limit+30000], X2[limit:limit+30000], Y[limit:limit+30000],X1[limit+30000:], X2[limit+30000:], Y[limit+30000:]"
      ],
      "id": "9ccdf87b",
      "execution_count": 52,
      "outputs": []
    },
    {
      "cell_type": "code",
      "metadata": {
        "id": "9abb936e"
      },
      "source": [
        "def generate_batch(x1, x2, startpoint, batch_size):\n",
        "    first = np.zeros((batch_size, IMAGE_WIDTH, IMAGE_HEIGHT, 1))\n",
        "    second = np.zeros((batch_size, IMAGE_WIDTH, IMAGE_HEIGHT, 1))\n",
        "    counter = 0\n",
        "    for i in range(startpoint, startpoint + batch_size):\n",
        "        first[counter] = dataset_all[x1[i]]\n",
        "        second[counter] = dataset_all[x2[i]]\n",
        "        counter += 1\n",
        "    return first, second"
      ],
      "id": "9abb936e",
      "execution_count": 80,
      "outputs": []
    },
    {
      "cell_type": "code",
      "metadata": {
        "id": "b59ce09a"
      },
      "source": [
        "def return_images(names_list):\n",
        "    length = len(names_list)\n",
        "    images = np.zeros((length, IMAGE_WIDTH, IMAGE_HEIGHT, 1))\n",
        "    for i in range(0, length):\n",
        "        images[i] = dataset_all[names_list[i]]\n",
        "    return images"
      ],
      "id": "b59ce09a",
      "execution_count": 81,
      "outputs": []
    },
    {
      "cell_type": "code",
      "metadata": {
        "id": "3db239b3"
      },
      "source": [
        "def generate_data(batch_size, x1, x2, y):\n",
        "    y_len = y.shape[0]\n",
        "    counter = 0\n",
        "    while True:\n",
        "        if counter >= y_len:\n",
        "            counter = 0\n",
        "        a, b = generate_batch(x1, x2, counter, batch_size)\n",
        "        y1 = y[counter : counter + batch_size]\n",
        "        counter += batch_size\n",
        "        yield [a,b],y1"
      ],
      "id": "3db239b3",
      "execution_count": 82,
      "outputs": []
    },
    {
      "cell_type": "code",
      "metadata": {
        "id": "1d25fd4c"
      },
      "source": [
        "def prep_model(dim):\n",
        "    main_model = tf.keras.models.Sequential([\n",
        "  tf.keras.layers.Conv2D(dim, (3,3), input_shape=(SIZE, SIZE,1),name='Layer1'),\n",
        "  tf.keras.layers.LeakyReLU(),\n",
        "  tf.keras.layers.BatchNormalization(epsilon=1e-06, axis=1, momentum=0.9),\n",
        "  tf.keras.layers.MaxPooling2D(2, 2),\n",
        "    \n",
        "  tf.keras.layers.Conv2D(dim * 2, (3,3),name='Layer2'),\n",
        "  tf.keras.layers.LeakyReLU(),\n",
        "  tf.keras.layers.BatchNormalization(epsilon=1e-06, axis=1, momentum=0.9),\n",
        "  tf.keras.layers.MaxPooling2D(2, 2),\n",
        "  tf.keras.layers.Dropout(0.1),\n",
        "    \n",
        "  tf.keras.layers.Conv2D(dim * 4, (3,3),name='Layer3'),\n",
        "  tf.keras.layers.LeakyReLU(),\n",
        "  tf.keras.layers.BatchNormalization(epsilon=1e-06, axis=1, momentum=0.9),\n",
        "  tf.keras.layers.MaxPooling2D(4, 4),\n",
        "  tf.keras.layers.Dropout(0.2),\n",
        "\n",
        "  tf.keras.layers.Conv2D(dim * 8, (3,3),name='Layer4'),\n",
        "  tf.keras.layers.LeakyReLU(),\n",
        "  tf.keras.layers.BatchNormalization(epsilon=1e-06, axis=1, momentum=0.9),\n",
        "  tf.keras.layers.MaxPooling2D(4, 4),\n",
        "  tf.keras.layers.Dropout(0.1),\n",
        "\n",
        "  tf.keras.layers.Conv2D(dim * 8, (1,1),name='Layer5'),\n",
        "  tf.keras.layers.LeakyReLU(),\n",
        "  tf.keras.layers.Flatten(),\n",
        "],name='main_model')\n",
        "    print(main_model.summary())\n",
        "    return main_model"
      ],
      "id": "1d25fd4c",
      "execution_count": 83,
      "outputs": []
    },
    {
      "cell_type": "code",
      "metadata": {
        "id": "a5e77a80"
      },
      "source": [
        "def calculate_test_accuracy(Y, preds, thres):\n",
        "    preds_list = []\n",
        "    for i in preds:\n",
        "        if i[0] < 0.35:\n",
        "            preds_list.append(0)\n",
        "        else:\n",
        "            preds_list.append(1)\n",
        "            \n",
        "    x = 0\n",
        "    for i in range(0, len(Y)):\n",
        "        if Y_test[i] == preds_list[i]:\n",
        "            x = x + 1\n",
        "    return x * 100 / len(preds_list)"
      ],
      "id": "a5e77a80",
      "execution_count": 84,
      "outputs": []
    },
    {
      "cell_type": "code",
      "metadata": {
        "colab": {
          "base_uri": "https://localhost:8080/"
        },
        "id": "7810ee8a",
        "outputId": "aa0a41f5-f5d1-4c30-e9a5-fd2ec0d45844"
      },
      "source": [
        "main_model = prep_model(DIM)"
      ],
      "id": "7810ee8a",
      "execution_count": 85,
      "outputs": [
        {
          "output_type": "stream",
          "text": [
            "Model: \"main_model\"\n",
            "_________________________________________________________________\n",
            "Layer (type)                 Output Shape              Param #   \n",
            "=================================================================\n",
            "Layer1 (Conv2D)              (None, 148, 148, 64)      640       \n",
            "_________________________________________________________________\n",
            "leaky_re_lu_15 (LeakyReLU)   (None, 148, 148, 64)      0         \n",
            "_________________________________________________________________\n",
            "batch_normalization_12 (Batc (None, 148, 148, 64)      592       \n",
            "_________________________________________________________________\n",
            "max_pooling2d_12 (MaxPooling (None, 74, 74, 64)        0         \n",
            "_________________________________________________________________\n",
            "Layer2 (Conv2D)              (None, 72, 72, 128)       73856     \n",
            "_________________________________________________________________\n",
            "leaky_re_lu_16 (LeakyReLU)   (None, 72, 72, 128)       0         \n",
            "_________________________________________________________________\n",
            "batch_normalization_13 (Batc (None, 72, 72, 128)       288       \n",
            "_________________________________________________________________\n",
            "max_pooling2d_13 (MaxPooling (None, 36, 36, 128)       0         \n",
            "_________________________________________________________________\n",
            "dropout_9 (Dropout)          (None, 36, 36, 128)       0         \n",
            "_________________________________________________________________\n",
            "Layer3 (Conv2D)              (None, 34, 34, 256)       295168    \n",
            "_________________________________________________________________\n",
            "leaky_re_lu_17 (LeakyReLU)   (None, 34, 34, 256)       0         \n",
            "_________________________________________________________________\n",
            "batch_normalization_14 (Batc (None, 34, 34, 256)       136       \n",
            "_________________________________________________________________\n",
            "max_pooling2d_14 (MaxPooling (None, 8, 8, 256)         0         \n",
            "_________________________________________________________________\n",
            "dropout_10 (Dropout)         (None, 8, 8, 256)         0         \n",
            "_________________________________________________________________\n",
            "Layer4 (Conv2D)              (None, 6, 6, 512)         1180160   \n",
            "_________________________________________________________________\n",
            "leaky_re_lu_18 (LeakyReLU)   (None, 6, 6, 512)         0         \n",
            "_________________________________________________________________\n",
            "batch_normalization_15 (Batc (None, 6, 6, 512)         24        \n",
            "_________________________________________________________________\n",
            "max_pooling2d_15 (MaxPooling (None, 1, 1, 512)         0         \n",
            "_________________________________________________________________\n",
            "dropout_11 (Dropout)         (None, 1, 1, 512)         0         \n",
            "_________________________________________________________________\n",
            "Layer5 (Conv2D)              (None, 1, 1, 512)         262656    \n",
            "_________________________________________________________________\n",
            "leaky_re_lu_19 (LeakyReLU)   (None, 1, 1, 512)         0         \n",
            "_________________________________________________________________\n",
            "flatten_3 (Flatten)          (None, 512)               0         \n",
            "=================================================================\n",
            "Total params: 1,813,520\n",
            "Trainable params: 1,813,000\n",
            "Non-trainable params: 520\n",
            "_________________________________________________________________\n",
            "None\n"
          ],
          "name": "stdout"
        }
      ]
    },
    {
      "cell_type": "code",
      "metadata": {
        "colab": {
          "base_uri": "https://localhost:8080/"
        },
        "id": "c1dbf222",
        "outputId": "027af53a-b823-447f-e080-8000d3adaa69"
      },
      "source": [
        "input_1 = tf.keras.layers.Input(shape = (SIZE, SIZE, 1), name = 'input1')\n",
        "input_2 = tf.keras.layers.Input(shape = (SIZE, SIZE, 1), name = 'input2')\n",
        "\n",
        "embd_one = main_model(input_1)\n",
        "embd_two = main_model(input_2)\n",
        "\n",
        "out = tf.keras.layers.concatenate([embd_one, embd_two], axis = 1)\n",
        "out = tf.keras.layers.Dense(DIM * 8, activation = 'relu', kernel_regularizer = tf.keras.regularizers.l2(l=0.1))(out)\n",
        "out = tf.keras.layers.Dense(DIM, activation='relu')(out)\n",
        "\n",
        "out = tf.keras.layers.Dense(1, activation = 'sigmoid', name = 'Output')(out)\n",
        "\n",
        "model = tf.keras.models.Model([input_1, input_2], out)\n",
        "print(model.summary())"
      ],
      "id": "c1dbf222",
      "execution_count": 86,
      "outputs": [
        {
          "output_type": "stream",
          "text": [
            "Model: \"model_3\"\n",
            "__________________________________________________________________________________________________\n",
            "Layer (type)                    Output Shape         Param #     Connected to                     \n",
            "==================================================================================================\n",
            "input1 (InputLayer)             [(None, 150, 150, 1) 0                                            \n",
            "__________________________________________________________________________________________________\n",
            "input2 (InputLayer)             [(None, 150, 150, 1) 0                                            \n",
            "__________________________________________________________________________________________________\n",
            "main_model (Sequential)         (None, 512)          1813520     input1[0][0]                     \n",
            "                                                                 input2[0][0]                     \n",
            "__________________________________________________________________________________________________\n",
            "concatenate_3 (Concatenate)     (None, 1024)         0           main_model[0][0]                 \n",
            "                                                                 main_model[1][0]                 \n",
            "__________________________________________________________________________________________________\n",
            "dense_6 (Dense)                 (None, 512)          524800      concatenate_3[0][0]              \n",
            "__________________________________________________________________________________________________\n",
            "dense_7 (Dense)                 (None, 64)           32832       dense_6[0][0]                    \n",
            "__________________________________________________________________________________________________\n",
            "Output (Dense)                  (None, 1)            65          dense_7[0][0]                    \n",
            "==================================================================================================\n",
            "Total params: 2,371,217\n",
            "Trainable params: 2,370,697\n",
            "Non-trainable params: 520\n",
            "__________________________________________________________________________________________________\n",
            "None\n"
          ],
          "name": "stdout"
        }
      ]
    },
    {
      "cell_type": "code",
      "metadata": {
        "id": "5796b282"
      },
      "source": [
        "lrate_schedule = tf.keras.optimizers.schedules.ExponentialDecay(\n",
        "    initial_learning_rate = initial_learning_rate,\n",
        "    decay_steps = 5, \n",
        "    decay_rate = 0.96,\n",
        "    staircase = True\n",
        ") \n",
        "optimizer = tf.keras.optimizers.RMSprop(learning_rate = lrate_schedule)"
      ],
      "id": "5796b282",
      "execution_count": 87,
      "outputs": []
    },
    {
      "cell_type": "code",
      "metadata": {
        "colab": {
          "base_uri": "https://localhost:8080/"
        },
        "id": "6893734d",
        "outputId": "cbb313c1-e049-432e-e6a8-b51c6eef4018"
      },
      "source": [
        "rms = tf.keras.optimizers.RMSprop(lr = 1e-4, rho = 0.9, epsilon = 1e-08)\n",
        "model.compile(loss = 'binary_crossentropy', optimizer = optimizer, metrics = ['accuracy'])"
      ],
      "id": "6893734d",
      "execution_count": 88,
      "outputs": [
        {
          "output_type": "stream",
          "text": [
            "/usr/local/lib/python3.7/dist-packages/tensorflow/python/keras/optimizer_v2/optimizer_v2.py:375: UserWarning: The `lr` argument is deprecated, use `learning_rate` instead.\n",
            "  \"The `lr` argument is deprecated, use `learning_rate` instead.\")\n"
          ],
          "name": "stderr"
        }
      ]
    },
    {
      "cell_type": "code",
      "metadata": {
        "id": "386f9a12"
      },
      "source": [
        "callbacks = [\n",
        "    EarlyStopping(patience=15, verbose=1),\n",
        "    ReduceLROnPlateau(factor=0.1, patience=5, min_lr=0.000001, verbose=1),\n",
        "    ModelCheckpoint('/content/Weights/point-{epoch:03d}.h5', verbose=1, save_weights_only=True)\n",
        "]"
      ],
      "id": "386f9a12",
      "execution_count": 89,
      "outputs": []
    },
    {
      "cell_type": "code",
      "metadata": {
        "colab": {
          "base_uri": "https://localhost:8080/"
        },
        "id": "cde2cb7e",
        "outputId": "87d40d4f-e313-4a6d-852c-7f46f56a7697"
      },
      "source": [
        "model.fit(\n",
        "    generate_data(batch_size, X1_train, X2_train, Y_train),\n",
        "    epochs = 1,\n",
        "    steps_per_epoch = Y_train.shape[0] // batch_size,\n",
        "    validation_data = generate_data(batch_size, X1_val, X2_val, Y_val),\n",
        "    validation_steps = Y_val.shape[0] // batch_size,\n",
        "    verbose=1,\n",
        "    callbacks = callbacks\n",
        ")"
      ],
      "id": "cde2cb7e",
      "execution_count": 91,
      "outputs": [
        {
          "output_type": "stream",
          "text": [
            "22659/22659 [==============================] - 620s 27ms/step - loss: 0.5991 - accuracy: 0.7231 - val_loss: 0.6000 - val_accuracy: 0.7220\n",
            "\n",
            "Epoch 00001: saving model to /content/Weights/point-001.h5\n"
          ],
          "name": "stdout"
        },
        {
          "output_type": "execute_result",
          "data": {
            "text/plain": [
              "<tensorflow.python.keras.callbacks.History at 0x7fcf88f42490>"
            ]
          },
          "metadata": {
            "tags": []
          },
          "execution_count": 91
        }
      ]
    },
    {
      "cell_type": "code",
      "metadata": {
        "colab": {
          "base_uri": "https://localhost:8080/"
        },
        "id": "ffef2763",
        "outputId": "6f88a3f3-29cd-47c3-eebd-4629e31afed0"
      },
      "source": [
        "training_accuracy = model.evaluate(generate_data(batch_size, X1_train, X2_train, Y_train), batch_size = batch_size, steps = Y_val.shape[0] // batch_size)\n",
        "print(\"Training Set Accuracy is : \", training_accuracy[1] * 100)"
      ],
      "id": "ffef2763",
      "execution_count": 92,
      "outputs": [
        {
          "output_type": "stream",
          "text": [
            "3750/3750 [==============================] - 37s 10ms/step - loss: 0.5987 - accuracy: 0.7232\n",
            "Training Set Accuracy is :  72.32000231742859\n"
          ],
          "name": "stdout"
        }
      ]
    },
    {
      "cell_type": "code",
      "metadata": {
        "colab": {
          "base_uri": "https://localhost:8080/"
        },
        "id": "050c4ba5",
        "outputId": "c3e56c1c-c65d-4987-a17a-029e2fa1233a"
      },
      "source": [
        "validation_accuracy = model.evaluate(generate_data(batch_size, X1_val, X2_val, Y_val), batch_size = batch_size, steps = Y_val.shape[0])\n",
        "print(\"Validation Set Accuracy is : \", validation_accuracy[1] * 100)"
      ],
      "id": "050c4ba5",
      "execution_count": null,
      "outputs": [
        {
          "output_type": "stream",
          "text": [
            " 1348/30000 [>.............................] - ETA: 4:42 - loss: 0.5945 - accuracy: 0.7282"
          ],
          "name": "stdout"
        }
      ]
    },
    {
      "cell_type": "code",
      "metadata": {
        "colab": {
          "base_uri": "https://localhost:8080/",
          "height": 162
        },
        "id": "42073750",
        "outputId": "eca78bb5-43e4-413d-dcd0-3cf5d0e62c35"
      },
      "source": [
        "testing_predictions = model.predict([return_images(X1_test), return_images(X2_test)])"
      ],
      "id": "42073750",
      "execution_count": 2,
      "outputs": [
        {
          "output_type": "error",
          "ename": "NameError",
          "evalue": "ignored",
          "traceback": [
            "\u001b[0;31m---------------------------------------------------------------------------\u001b[0m",
            "\u001b[0;31mNameError\u001b[0m                                 Traceback (most recent call last)",
            "\u001b[0;32m<ipython-input-2-f9a3e10e52df>\u001b[0m in \u001b[0;36m<module>\u001b[0;34m()\u001b[0m\n\u001b[0;32m----> 1\u001b[0;31m \u001b[0mtesting_predictions\u001b[0m \u001b[0;34m=\u001b[0m \u001b[0mmodel\u001b[0m\u001b[0;34m.\u001b[0m\u001b[0mpredict\u001b[0m\u001b[0;34m(\u001b[0m\u001b[0;34m[\u001b[0m\u001b[0mreturn_images\u001b[0m\u001b[0;34m(\u001b[0m\u001b[0mX1_test\u001b[0m\u001b[0;34m)\u001b[0m\u001b[0;34m,\u001b[0m \u001b[0mreturn_images\u001b[0m\u001b[0;34m(\u001b[0m\u001b[0mX2_test\u001b[0m\u001b[0;34m)\u001b[0m\u001b[0;34m]\u001b[0m\u001b[0;34m)\u001b[0m\u001b[0;34m\u001b[0m\u001b[0;34m\u001b[0m\u001b[0m\n\u001b[0m",
            "\u001b[0;31mNameError\u001b[0m: name 'model' is not defined"
          ]
        }
      ]
    },
    {
      "cell_type": "markdown",
      "metadata": {
        "id": "BLGqcm-H3tdB"
      },
      "source": [
        "# New Section"
      ],
      "id": "BLGqcm-H3tdB"
    },
    {
      "cell_type": "code",
      "metadata": {
        "id": "6ffbe67c",
        "colab": {
          "base_uri": "https://localhost:8080/",
          "height": 162
        },
        "outputId": "5613eccf-9713-4fcd-87bf-cbcd41a3847d"
      },
      "source": [
        "print(\"Test Set Accuracy is : \", calculate_test_accuracy(Y_test, testing_predictions, np.mean(testing_predictions)))"
      ],
      "id": "6ffbe67c",
      "execution_count": 1,
      "outputs": [
        {
          "output_type": "error",
          "ename": "NameError",
          "evalue": "ignored",
          "traceback": [
            "\u001b[0;31m---------------------------------------------------------------------------\u001b[0m",
            "\u001b[0;31mNameError\u001b[0m                                 Traceback (most recent call last)",
            "\u001b[0;32m<ipython-input-1-60fb04a3aa64>\u001b[0m in \u001b[0;36m<module>\u001b[0;34m()\u001b[0m\n\u001b[0;32m----> 1\u001b[0;31m \u001b[0mprint\u001b[0m\u001b[0;34m(\u001b[0m\u001b[0;34m\"Test Set Accuracy is : \"\u001b[0m\u001b[0;34m,\u001b[0m \u001b[0mcalculate_test_accuracy\u001b[0m\u001b[0;34m(\u001b[0m\u001b[0mY_test\u001b[0m\u001b[0;34m,\u001b[0m \u001b[0mtesting_predictions\u001b[0m\u001b[0;34m,\u001b[0m \u001b[0mnp\u001b[0m\u001b[0;34m.\u001b[0m\u001b[0mmean\u001b[0m\u001b[0;34m(\u001b[0m\u001b[0mtesting_predictions\u001b[0m\u001b[0;34m)\u001b[0m\u001b[0;34m)\u001b[0m\u001b[0;34m)\u001b[0m\u001b[0;34m\u001b[0m\u001b[0;34m\u001b[0m\u001b[0m\n\u001b[0m",
            "\u001b[0;31mNameError\u001b[0m: name 'calculate_test_accuracy' is not defined"
          ]
        }
      ]
    }
  ]
}